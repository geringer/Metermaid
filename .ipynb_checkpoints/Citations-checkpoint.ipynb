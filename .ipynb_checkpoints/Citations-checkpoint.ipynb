{
 "cells": [
  {
   "cell_type": "code",
   "execution_count": null,
   "metadata": {},
   "outputs": [],
   "source": [
    "'''\n",
    "This is a project dedicated to analyzing a dataset of parking \n",
    "citations by the Parklink administartion in Raleigh, NC. The \n",
    "information was provided under the Freedom of Information Act \n",
    "as an Excel Spreadsheet. \n",
    "\n",
    "As a student and a resident of Boylan Heights, I find myself\n",
    "always at odds with the parking enforcement. As a result, I \n",
    "this is my attempt to outsmart them by formulating a \n",
    "regression on the data to guess their paths of destruction.\n",
    "'''\n",
    "%matplotlib inline\n",
    "\n",
    "import pandas as pd\n",
    "import numpy as np\n",
    "import matplotlib.pyplot as plt\n",
    "\n",
    "'''\n",
    "#IMPORT DATA FROM PUBLIC RECORD REQUEST\n",
    "df = pd.read_csv('/home/adam/tickets.csv')\n",
    "\n",
    "#CONVERT TO DATATYPES\n",
    "df['ISSUEDATE'] = pd.to_datetime(df['ISSUEDATE']).dt.date\n",
    "df['ISSUETIME'] = pd.to_datetime(df['ISSUETIME']).dt.time\n",
    "df['ISSUED'] = df.apply(lambda r : pd.datetime.combine(r['ISSUEDATE'],r['ISSUETIME']),1)\n",
    "df = df.set_index(pd.DatetimeIndex(df['ISSUED']))\n",
    "del df['ISSUETIME']\n",
    "del df['ISSUEDATE']\n",
    "del df['ISSUED']\n",
    "'''"
   ]
  },
  {
   "cell_type": "code",
   "execution_count": null,
   "metadata": {},
   "outputs": [],
   "source": [
    "'''\n",
    "from geopy.geocoders import GoogleV3\n",
    "API_KEY = ''\n",
    "#Mapbox_key = ''\n",
    "\n",
    "geolocator = GoogleV3(api_key = API_KEY)   \n",
    "\n",
    "def getLocation(row):\n",
    "    address = row['LOCATIONDESC1'] + \", Raleigh, NC, USA\"\n",
    "    try:\n",
    "        location = geolocator.geocode(address)\n",
    "        print(\"SUCCESS   \" + str(location))\n",
    "        return (location.latitude, location.longitude)\n",
    "    except:\n",
    "        print(\"FAILURE    \" + address)\n",
    "        return (0.0, 0.0)\n",
    "    \n",
    "df['LOCATIONDESC2'] = df.apply(lambda row: getLocation(row), axis=1)\n",
    "'''"
   ]
  },
  {
   "cell_type": "code",
   "execution_count": null,
   "metadata": {},
   "outputs": [],
   "source": [
    "import geopandas as gpd\n",
    "from shapely.geometry import Point\n",
    "def convertToPoint(row, ColumnName):\n",
    "    string = str(row[ColumnName])\n",
    "    string = string.strip(\"(){}<>\")\n",
    "    list = string.split()\n",
    "    latitude = float(list[0][:-1])\n",
    "    longitude = float(list[1])\n",
    "    return Point(longitude, latitude) #geopandas bug fix, further investigation needed."
   ]
  },
  {
   "cell_type": "code",
   "execution_count": null,
   "metadata": {},
   "outputs": [],
   "source": [
    "from shapely.geometry import Polygon\n",
    "df = pd.read_csv('TicketsLatLong.csv', parse_dates = True)\n",
    "df['geometry'] = df.apply(lambda row: convertToPoint(row, \"LOCATIONDESC2\" ), axis=1)\n",
    "gdf = gpd.GeoDataFrame(df)"
   ]
  },
  {
   "cell_type": "code",
   "execution_count": null,
   "metadata": {},
   "outputs": [],
   "source": [
    "RaleighBoundary = Polygon([(-79, 37), (-79, 34), (-78.4, 34), (-78.4, 37)])\n",
    "gdf = gdf[gdf['geometry'].within(RaleighBoundary)]"
   ]
  },
  {
   "cell_type": "code",
   "execution_count": null,
   "metadata": {},
   "outputs": [],
   "source": [
    "from shapely.geometry import LineString\n",
    "from datetime import datetime\n",
    "toList = [] \n",
    "day = '2017-10-09'\n",
    "gdf1 = gdf[gdf['OFFICERBADGE'] == \"FA36\"]\n",
    "del gdf1['LOCATIONDESC1']\n",
    "gdf1 = gdf1.sort_values(by='ISSUED')\n",
    "\n",
    "previous = pd.to_datetime('January 1, 1970')\n",
    "counterr = 0\n",
    "line0 = []\n",
    "lines = []\n",
    "for index, row in gdf1.iterrows():\n",
    "    issuance = pd.to_datetime(row['ISSUED']) \n",
    "    delta = (issuance - previous)\n",
    "    if delta.seconds >= 2*60*60:\n",
    "        if eval(\"len(line\" + str(counterr) + \") >= 2\"):\n",
    "            exec(\"line\" + str(counterr) + \" = LineString(line\" + str(counterr) + \")\")\n",
    "            exec(\"lines.append(line\" + str(counterr) +\")\")\n",
    "        counterr += 1\n",
    "        exec(\"line\" + str(counterr) + \" = []\")\n",
    "    exec(\"line\" + str(counterr) + \".append(row['geometry'])\") \n",
    "    previous = issuance\n",
    "    \n",
    "Raleigh = gpd.read_file('./Downloads/Streets_in_Wake_County_NC.json')\n",
    "base = Raleigh.plot(figsize=(100, 100))\n",
    "lines = gpd.GeoSeries(lines)\n",
    "#lines = lines.to_crs(Raleigh.crs)\n",
    "for line in lines:\n",
    "    line[line].plot(ax = base)\n"
   ]
  },
  {
   "cell_type": "code",
   "execution_count": null,
   "metadata": {},
   "outputs": [],
   "source": [
    "#Create list of names, and use method to not add multiples\n",
    "list = []\n",
    "def index(item):    \n",
    "    if item in list:\n",
    "        pass\n",
    "    else:\n",
    "        list.append(item)\n",
    "        \n",
    "#run method on whole gdf\n",
    "gdf.apply(lambda r: index(r['OFFICERBADGE']),1)\n",
    "\n",
    "#Create sub-GDFs\n",
    "for id in list:\n",
    "    exec(\"gdf_\" + id + \" = gdf[gdf['OFFICERBADGE'] == id ]\")\n",
    "    exec(\"gdf_\" + id + \"= gdf_\" + id + \".sort_values(by='ISSUED')\")\n",
    "    \n",
    "#if time delta > 8 hours, then new linestring\n",
    "\n",
    "count = 1\n",
    "exec(\"line\" + str(count) + \"= []\")\n",
    "\n"
   ]
  },
  {
   "cell_type": "code",
   "execution_count": null,
   "metadata": {},
   "outputs": [],
   "source": [
    "gdf1.plot(ax = base)"
   ]
  },
  {
   "cell_type": "code",
   "execution_count": null,
   "metadata": {},
   "outputs": [],
   "source": [
    "df4 = df[df['LOCATIONDESC1'].str.contains(\"PULLEN\")]\n",
    "df4['ISSUED'] = pd.to_datetime(df4['ISSUED'])\n",
    "df4['TIME'] = pd.to_datetime(df4['ISSUED']).dt.time\n",
    "df4.sort_values(by='TIME')\n",
    "df4.to_string(index=False)\n",
    "timenp =  np.array(df4['TIME'])\n",
    "plt.hist(timenp)\n",
    "plt.show()\n",
    "\n"
   ]
  },
  {
   "cell_type": "code",
   "execution_count": null,
   "metadata": {},
   "outputs": [],
   "source": [
    "plt.plot(time)\n",
    "plt.show()"
   ]
  },
  {
   "cell_type": "code",
   "execution_count": null,
   "metadata": {},
   "outputs": [],
   "source": []
  }
 ],
 "metadata": {
  "kernelspec": {
   "display_name": "Python 2",
   "language": "python",
   "name": "python2"
  },
  "language_info": {
   "codemirror_mode": {
    "name": "ipython",
    "version": 2
   },
   "file_extension": ".py",
   "mimetype": "text/x-python",
   "name": "python",
   "nbconvert_exporter": "python",
   "pygments_lexer": "ipython2",
   "version": "2.7.14"
  }
 },
 "nbformat": 4,
 "nbformat_minor": 2
}
